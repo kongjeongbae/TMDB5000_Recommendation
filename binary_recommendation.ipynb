{
 "nbformat": 4,
 "nbformat_minor": 2,
 "metadata": {
  "language_info": {
   "name": "python",
   "codemirror_mode": {
    "name": "ipython",
    "version": 3
   },
   "version": "3.6.8"
  },
  "orig_nbformat": 2,
  "file_extension": ".py",
  "mimetype": "text/x-python",
  "name": "python",
  "npconvert_exporter": "python",
  "pygments_lexer": "ipython3",
  "version": 3
 },
 "cells": [
  {
   "cell_type": "code",
   "execution_count": 2,
   "metadata": {},
   "outputs": [],
   "source": [
    "import pandas as pd\n",
    "import numpy as np\n",
    "\n",
    "from sklearn.metrics.pairwise import cosine_similarity\n",
    "from scipy import sparse"
   ]
  },
  {
   "cell_type": "code",
   "execution_count": 3,
   "metadata": {},
   "outputs": [],
   "source": [
    "#------------------\n",
    "# LOAD THE DATASET\n",
    "#------------------\n",
    "\n",
    "data = pd.read_csv('./input/binary_recommendation/lastfm.csv')\n",
    "\n",
    "# Create a new dataframe without the user ids.\n",
    "data_items = data.drop('user', 1)"
   ]
  },
  {
   "cell_type": "code",
   "execution_count": 4,
   "metadata": {},
   "outputs": [
    {
     "name": "stdout",
     "output_type": "stream",
     "text": "beyonce               1.000000\nthe pussycat dolls    0.351871\nrihanna               0.334919\nchristina aguilera    0.308388\nalicia keys           0.297264\njustin timberlake     0.279726\nbritney spears        0.269557\nleona lewis           0.259237\nmaria mena            0.248751\nkelly clarkson        0.245713\nnelly furtado         0.230789\nName: beyonce, dtype: float64\n"
    }
   ],
   "source": [
    "# ITEM-ITEM CALCULATIONS\n",
    "\n",
    "# As a first step we normalize the user vectors to unit vectors.\n",
    "\n",
    "# magnitude = sqrt(x2 + y2 + z2 + ...)\n",
    "magnitude = np.sqrt(np.square(data_items).sum(axis=1))\n",
    "\n",
    "# unitvector = (x / magnitude, y / magnitude, z / magnitude, ...)\n",
    "data_items = data_items.divide(magnitude, axis='index')\n",
    "\n",
    "def calculate_similarity(data_items):\n",
    "    \"\"\"Calculate the column-wise cosine similarity for a sparse\n",
    "    matrix. Return a new dataframe matrix with similarities.\n",
    "    \"\"\"\n",
    "    data_sparse = sparse.csr_matrix(data_items)\n",
    "    similarities = cosine_similarity(data_sparse.transpose())\n",
    "    sim = pd.DataFrame(data=similarities, index= data_items.columns, columns= data_items.columns)\n",
    "    return sim\n",
    "\n",
    "# Build the similarity matrix\n",
    "data_matrix = calculate_similarity(data_items)\n",
    "\n",
    "# Lets get the top 11 similar artists for Beyonce\n",
    "print(data_matrix.loc['beyonce'].nlargest(11))\n"
   ]
  },
  {
   "cell_type": "code",
   "execution_count": 6,
   "metadata": {},
   "outputs": [
    {
     "name": "stderr",
     "output_type": "stream",
     "text": "c:\\Users\\KJB\\data_analysis\\TMDB5000_Recommendation\\venv\\lib\\site-packages\\ipykernel_launcher.py:8: FutureWarning: \n.ix is deprecated. Please use\n.loc for label based indexing or\n.iloc for positional indexing\n\nSee the documentation here:\nhttp://pandas.pydata.org/pandas-docs/stable/user_guide/indexing.html#ix-indexer-is-deprecated\n  \nc:\\Users\\KJB\\data_analysis\\TMDB5000_Recommendation\\venv\\lib\\site-packages\\pandas\\core\\indexing.py:961: FutureWarning: \n.ix is deprecated. Please use\n.loc for label based indexing or\n.iloc for positional indexing\n\nSee the documentation here:\nhttp://pandas.pydata.org/pandas-docs/stable/user_guide/indexing.html#ix-indexer-is-deprecated\n  return getattr(section, self.name)[new_key]\n['bob dylan' 'the cure']\njoy division           0.087840\nthe smiths             0.087004\nthe rolling stones     0.084162\ndavid bowie            0.081768\ntom waits              0.075365\nbelle and sebastian    0.070918\neric clapton           0.069710\nmisfits                0.069017\nthe beatles            0.067101\nelliott smith          0.067058\nramones                0.064136\njimi hendrix           0.060558\ndepeche mode           0.057806\njohnny cash            0.055420\nthe doors              0.047377\ndtype: float64\nc:\\Users\\KJB\\data_analysis\\TMDB5000_Recommendation\\venv\\lib\\site-packages\\ipykernel_launcher.py:14: FutureWarning: \n.ix is deprecated. Please use\n.loc for label based indexing or\n.iloc for positional indexing\n\nSee the documentation here:\nhttp://pandas.pydata.org/pandas-docs/stable/user_guide/indexing.html#ix-indexer-is-deprecated\n  \nc:\\Users\\KJB\\data_analysis\\TMDB5000_Recommendation\\venv\\lib\\site-packages\\ipykernel_launcher.py:19: FutureWarning: \n.ix is deprecated. Please use\n.loc for label based indexing or\n.iloc for positional indexing\n\nSee the documentation here:\nhttp://pandas.pydata.org/pandas-docs/stable/user_guide/indexing.html#ix-indexer-is-deprecated\nc:\\Users\\KJB\\data_analysis\\TMDB5000_Recommendation\\venv\\lib\\site-packages\\ipykernel_launcher.py:22: FutureWarning: \n.ix is deprecated. Please use\n.loc for label based indexing or\n.iloc for positional indexing\n\nSee the documentation here:\nhttp://pandas.pydata.org/pandas-docs/stable/user_guide/indexing.html#ix-indexer-is-deprecated\nc:\\Users\\KJB\\data_analysis\\TMDB5000_Recommendation\\venv\\lib\\site-packages\\ipykernel_launcher.py:26: FutureWarning: \n.ix is deprecated. Please use\n.loc for label based indexing or\n.iloc for positional indexing\n\nSee the documentation here:\nhttp://pandas.pydata.org/pandas-docs/stable/user_guide/indexing.html#ix-indexer-is-deprecated\n"
    }
   ],
   "source": [
    "# USER-ITEM CALCULATIONS\n",
    "\n",
    "# Construct a new dataframe with the 10 closest neighbours (most similar)\n",
    "# for each artist.\n",
    "data_neighbours = pd.DataFrame(index=data_matrix.columns, columns=range(1,11))\n",
    "\n",
    "for i in range(0, len(data_matrix.columns)):\n",
    "    data_neighbours.ix[i,:10] = data_matrix.ix[0:,i].sort_values(ascending=False)[:10].index\n",
    "\n",
    "user = 5985\n",
    "user_index = data[data.user == user].index.tolist()[0]\n",
    "\n",
    "# Get the artists the user has played.\n",
    "known_user_likes = data_items.ix[user_index]\n",
    "known_user_likes = known_user_likes[known_user_likes >0].index.values\n",
    "\n",
    "# Construct the neighbourhood from the most similar items to the\n",
    "# ones our user has already liked.\n",
    "most_similar_to_likes = data_neighbours.ix[known_user_likes]\n",
    "similar_list = most_similar_to_likes.values.tolist()\n",
    "similar_list = list(set([item for sublist in similar_list for item in sublist]))\n",
    "neighbourhood = data_matrix[similar_list].ix[similar_list]\n",
    "\n",
    "# A user vector containing only the neighbourhood items and\n",
    "# the known user likes.\n",
    "user_vector = data_items.ix[user_index].ix[similar_list]\n",
    "\n",
    "# Calculate the score.\n",
    "score = neighbourhood.dot(user_vector).div(neighbourhood.sum(axis=1))\n",
    "\n",
    "# Drop the known likes.\n",
    "score = score.drop(known_user_likes)\n",
    "\n",
    "print(known_user_likes)\n",
    "print(score.nlargest(20))"
   ]
  },
  {
   "cell_type": "code",
   "execution_count": null,
   "metadata": {},
   "outputs": [],
   "source": []
  }
 ]
}